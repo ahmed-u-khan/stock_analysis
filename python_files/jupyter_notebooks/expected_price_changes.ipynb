{
  "nbformat": 4,
  "nbformat_minor": 0,
  "metadata": {
    "colab": {
      "provenance": [],
      "authorship_tag": "ABX9TyM8vb0+SQzsD/x6ZVbP1Q++",
      "include_colab_link": true
    },
    "kernelspec": {
      "name": "python3",
      "display_name": "Python 3"
    },
    "language_info": {
      "name": "python"
    }
  },
  "cells": [
    {
      "cell_type": "markdown",
      "metadata": {
        "id": "view-in-github",
        "colab_type": "text"
      },
      "source": [
        "<a href=\"https://colab.research.google.com/github/ahmed-u-khan/stock_analysis/blob/main/expected_price_changes.ipynb\" target=\"_parent\"><img src=\"https://colab.research.google.com/assets/colab-badge.svg\" alt=\"Open In Colab\"/></a>"
      ]
    },
    {
      "cell_type": "markdown",
      "source": [
        "## IMPORTING AND SETTING UP CONFIGS"
      ],
      "metadata": {
        "id": "ld3m9N6gTD0t"
      }
    },
    {
      "cell_type": "code",
      "execution_count": 17,
      "metadata": {
        "colab": {
          "base_uri": "https://localhost:8080/"
        },
        "id": "ZSQ5qQU5OlT-",
        "outputId": "9bfeafa5-5a01-47c7-e356-100db73c08ed"
      },
      "outputs": [
        {
          "output_type": "stream",
          "name": "stdout",
          "text": [
            "Authenticated\n"
          ]
        }
      ],
      "source": [
        "# prompt: how do i import data from bigquery?\n",
        "\n",
        "from google.colab import auth\n",
        "auth.authenticate_user()\n",
        "print('Authenticated')\n",
        "\n",
        "import pandas as pd\n",
        "import pandas_gbq\n",
        "import matplotlib.pyplot as plt\n",
        "\n",
        "pd.set_option('display.width', 400)\n",
        "\n",
        "%config InteractiveShell.ast_node_interactivity = 'all'\n",
        "%matplotlib inline\n",
        "\n",
        "project_id = 'first-project-262802' # Replace with your project ID\n",
        "dataset_id = 'stock_analysis' # Replace with your dataset ID\n",
        "table_id = 'stock_analysis' # Replace with your table ID"
      ]
    },
    {
      "cell_type": "markdown",
      "source": [
        "##**FNGU**"
      ],
      "metadata": {
        "id": "QmkUn5zWTSFr"
      }
    },
    {
      "cell_type": "markdown",
      "source": [
        "###*QUERY AND DATA*"
      ],
      "metadata": {
        "id": "kJQk23BXFzgx"
      }
    },
    {
      "cell_type": "code",
      "source": [
        "symbol_one = 'FNGU'\n",
        "\n",
        "query = f\"\"\"\n",
        "\n",
        "    SELECT\n",
        "\n",
        "      symbol\n",
        "      , date\n",
        "      -- , price_diff_of_high_to_close_of_previous_day\n",
        "      -- , price_diff_pct_of_high_to_close_of_previous_day\n",
        "      -- , price_diff_of_low_to_close_of_previous_day\n",
        "      -- , price_diff_pct_of_low_to_close_of_previous_day\n",
        "      , price_diff_of_close_to_close_of_previous_day\n",
        "      , round(price_diff_of_close_to_close_of_previous_day,22) as price_diff_of_close_to_close_of_previous_day_rounded\n",
        "      , price_diff_pct_of_close_to_close_of_previous_day\n",
        "      , round(price_diff_pct_of_close_to_close_of_previous_day,1) as price_diff_pct_of_close_to_close_of_previous_day_rounded\n",
        "\n",
        "    FROM `{project_id}.{dataset_id}.{table_id}`\n",
        "    WHERE symbol = '{symbol_one}'\n",
        "\n",
        "    ORDER BY symbol, date\n",
        "\n",
        "\"\"\"\n",
        "\n",
        "# df = pd.read_gbq(query, project_id=project_id) ### pd.read_gbq is about to be depracated\n",
        "df = pandas_gbq.read_gbq(query, project_id=project_id)\n",
        "\n",
        "print(df.head(10))\n",
        "# print(df.to_string())\n"
      ],
      "metadata": {
        "colab": {
          "base_uri": "https://localhost:8080/"
        },
        "id": "AKb3Lm1tS2tj",
        "outputId": "710544ed-de89-47bd-eb36-07fd52c76da6"
      },
      "execution_count": 21,
      "outputs": [
        {
          "output_type": "stream",
          "name": "stdout",
          "text": [
            "Downloading: 100%|\u001b[32m██████████\u001b[0m|\n",
            "  symbol        date  price_diff_of_close_to_close_of_previous_day  price_diff_of_close_to_close_of_previous_day_rounded  price_diff_pct_of_close_to_close_of_previous_day  price_diff_pct_of_close_to_close_of_previous_day_rounded\n",
            "0   FNGU  2018-01-23                                           NaN                                                NaN                                                  NaN                                                NaN       \n",
            "1   FNGU  2018-01-24                                     -0.110001                                          -0.110001                                                -0.21                                               -0.2       \n",
            "2   FNGU  2018-01-25                                     -0.039997                                          -0.039997                                                -0.07                                               -0.1       \n",
            "3   FNGU  2018-01-26                                      4.410000                                           4.410000                                                 8.26                                                8.3       \n",
            "4   FNGU  2018-01-29                                      0.989998                                           0.989998                                                 1.71                                                1.7       \n",
            "5   FNGU  2018-01-30                                     -1.649998                                          -1.649998                                                -2.81                                               -2.8       \n",
            "6   FNGU  2018-01-31                                      1.049999                                           1.049999                                                 1.84                                                1.8       \n",
            "7   FNGU  2018-02-01                                     -2.056000                                          -2.056000                                                -3.53                                               -3.5       \n",
            "8   FNGU  2018-02-02                                     -3.618999                                          -3.618999                                                -6.45                                               -6.5       \n",
            "9   FNGU  2018-02-05                                     -6.365002                                          -6.365002                                               -12.12                                              -12.1       \n"
          ]
        }
      ]
    },
    {
      "cell_type": "markdown",
      "source": [
        "###*ANALYSIS*"
      ],
      "metadata": {
        "id": "rsoO3jgpGAHj"
      }
    },
    {
      "cell_type": "markdown",
      "source": [
        "#### CLOSE TO CLOSE PRICE DIFF"
      ],
      "metadata": {
        "id": "UH34FHRjJQzR"
      }
    },
    {
      "cell_type": "code",
      "source": [
        "\n",
        "df['price_diff_of_close_to_close_of_previous_day_rounded'].describe().apply(\"{0:.2f}\".format)\n",
        "\n",
        "df.hist(column='price_diff_of_close_to_close_of_previous_day_rounded')"
      ],
      "metadata": {
        "colab": {
          "base_uri": "https://localhost:8080/",
          "height": 804
        },
        "id": "rK1RSM_xF-OL",
        "outputId": "06b2b500-cb9d-4196-e645-da02c0f1c04c"
      },
      "execution_count": 24,
      "outputs": [
        {
          "output_type": "execute_result",
          "data": {
            "text/plain": [
              "count    1743.00\n",
              "mean        0.35\n",
              "std        11.18\n",
              "min       -88.27\n",
              "25%        -2.95\n",
              "50%         0.50\n",
              "75%         4.35\n",
              "max        51.82\n",
              "Name: price_diff_of_close_to_close_of_previous_day_rounded, dtype: object"
            ],
            "text/html": [
              "<div>\n",
              "<style scoped>\n",
              "    .dataframe tbody tr th:only-of-type {\n",
              "        vertical-align: middle;\n",
              "    }\n",
              "\n",
              "    .dataframe tbody tr th {\n",
              "        vertical-align: top;\n",
              "    }\n",
              "\n",
              "    .dataframe thead th {\n",
              "        text-align: right;\n",
              "    }\n",
              "</style>\n",
              "<table border=\"1\" class=\"dataframe\">\n",
              "  <thead>\n",
              "    <tr style=\"text-align: right;\">\n",
              "      <th></th>\n",
              "      <th>price_diff_of_close_to_close_of_previous_day_rounded</th>\n",
              "    </tr>\n",
              "  </thead>\n",
              "  <tbody>\n",
              "    <tr>\n",
              "      <th>count</th>\n",
              "      <td>1743.00</td>\n",
              "    </tr>\n",
              "    <tr>\n",
              "      <th>mean</th>\n",
              "      <td>0.35</td>\n",
              "    </tr>\n",
              "    <tr>\n",
              "      <th>std</th>\n",
              "      <td>11.18</td>\n",
              "    </tr>\n",
              "    <tr>\n",
              "      <th>min</th>\n",
              "      <td>-88.27</td>\n",
              "    </tr>\n",
              "    <tr>\n",
              "      <th>25%</th>\n",
              "      <td>-2.95</td>\n",
              "    </tr>\n",
              "    <tr>\n",
              "      <th>50%</th>\n",
              "      <td>0.50</td>\n",
              "    </tr>\n",
              "    <tr>\n",
              "      <th>75%</th>\n",
              "      <td>4.35</td>\n",
              "    </tr>\n",
              "    <tr>\n",
              "      <th>max</th>\n",
              "      <td>51.82</td>\n",
              "    </tr>\n",
              "  </tbody>\n",
              "</table>\n",
              "</div><br><label><b>dtype:</b> object</label>"
            ]
          },
          "metadata": {},
          "execution_count": 24
        },
        {
          "output_type": "execute_result",
          "data": {
            "text/plain": [
              "array([[<Axes: title={'center': 'price_diff_of_close_to_close_of_previous_day_rounded'}>]],\n",
              "      dtype=object)"
            ]
          },
          "metadata": {},
          "execution_count": 24
        },
        {
          "output_type": "display_data",
          "data": {
            "text/plain": [
              "<Figure size 640x480 with 1 Axes>"
            ],
            "image/png": "[encoded data removed]"
          },
          "metadata": {}
        }
      ]
    },
    {
      "cell_type": "markdown",
      "source": [
        "#### CLOSE TO CLOSE PRICE DIFF %"
      ],
      "metadata": {
        "id": "4K9H457-JXDW"
      }
    },
    {
      "cell_type": "code",
      "source": [
        "df['price_diff_pct_of_close_to_close_of_previous_day_rounded'].describe().apply(\"{0:.2f}\".format)\n",
        "\n",
        "df.hist(column='price_diff_pct_of_close_to_close_of_previous_day_rounded')"
      ],
      "metadata": {
        "colab": {
          "base_uri": "https://localhost:8080/",
          "height": 804
        },
        "id": "hpb0lLIGJZTO",
        "outputId": "89e2cdcc-6cc9-48fc-edad-d23b6418c6d2"
      },
      "execution_count": 23,
      "outputs": [
        {
          "output_type": "execute_result",
          "data": {
            "text/plain": [
              "count    1743.00\n",
              "mean        0.31\n",
              "std         5.80\n",
              "min       -29.20\n",
              "25%        -2.70\n",
              "50%         0.50\n",
              "75%         3.80\n",
              "max        31.10\n",
              "Name: price_diff_pct_of_close_to_close_of_previous_day_rounded, dtype: object"
            ],
            "text/html": [
              "<div>\n",
              "<style scoped>\n",
              "    .dataframe tbody tr th:only-of-type {\n",
              "        vertical-align: middle;\n",
              "    }\n",
              "\n",
              "    .dataframe tbody tr th {\n",
              "        vertical-align: top;\n",
              "    }\n",
              "\n",
              "    .dataframe thead th {\n",
              "        text-align: right;\n",
              "    }\n",
              "</style>\n",
              "<table border=\"1\" class=\"dataframe\">\n",
              "  <thead>\n",
              "    <tr style=\"text-align: right;\">\n",
              "      <th></th>\n",
              "      <th>price_diff_pct_of_close_to_close_of_previous_day_rounded</th>\n",
              "    </tr>\n",
              "  </thead>\n",
              "  <tbody>\n",
              "    <tr>\n",
              "      <th>count</th>\n",
              "      <td>1743.00</td>\n",
              "    </tr>\n",
              "    <tr>\n",
              "      <th>mean</th>\n",
              "      <td>0.31</td>\n",
              "    </tr>\n",
              "    <tr>\n",
              "      <th>std</th>\n",
              "      <td>5.80</td>\n",
              "    </tr>\n",
              "    <tr>\n",
              "      <th>min</th>\n",
              "      <td>-29.20</td>\n",
              "    </tr>\n",
              "    <tr>\n",
              "      <th>25%</th>\n",
              "      <td>-2.70</td>\n",
              "    </tr>\n",
              "    <tr>\n",
              "      <th>50%</th>\n",
              "      <td>0.50</td>\n",
              "    </tr>\n",
              "    <tr>\n",
              "      <th>75%</th>\n",
              "      <td>3.80</td>\n",
              "    </tr>\n",
              "    <tr>\n",
              "      <th>max</th>\n",
              "      <td>31.10</td>\n",
              "    </tr>\n",
              "  </tbody>\n",
              "</table>\n",
              "</div><br><label><b>dtype:</b> object</label>"
            ]
          },
          "metadata": {},
          "execution_count": 23
        },
        {
          "output_type": "execute_result",
          "data": {
            "text/plain": [
              "array([[<Axes: title={'center': 'price_diff_pct_of_close_to_close_of_previous_day_rounded'}>]],\n",
              "      dtype=object)"
            ]
          },
          "metadata": {},
          "execution_count": 23
        },
        {
          "output_type": "display_data",
          "data": {
            "text/plain": [
              "<Figure size 640x480 with 1 Axes>"
            ],
            "image/png": "[encoded data removed]"
          },
          "metadata": {}
        }
      ]
    },
    {
      "cell_type": "code",
      "source": [],
      "metadata": {
        "id": "5dCXG0DnJabN"
      },
      "execution_count": null,
      "outputs": []
    }
  ]
}